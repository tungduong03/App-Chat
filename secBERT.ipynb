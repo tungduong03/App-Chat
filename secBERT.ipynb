{
  "nbformat": 4,
  "nbformat_minor": 0,
  "metadata": {
    "colab": {
      "provenance": [],
      "gpuType": "T4",
      "authorship_tag": "ABX9TyOuLy/jdpz9DXeQniqvDPOT",
      "include_colab_link": true
    },
    "kernelspec": {
      "name": "python3",
      "display_name": "Python 3"
    },
    "language_info": {
      "name": "python"
    },
    "accelerator": "GPU",
    "widgets": {
      "application/vnd.jupyter.widget-state+json": {
        "6faace39954c4f96970634589bf409ba": {
          "model_module": "@jupyter-widgets/controls",
          "model_name": "HBoxModel",
          "model_module_version": "1.5.0",
          "state": {
            "_dom_classes": [],
            "_model_module": "@jupyter-widgets/controls",
            "_model_module_version": "1.5.0",
            "_model_name": "HBoxModel",
            "_view_count": null,
            "_view_module": "@jupyter-widgets/controls",
            "_view_module_version": "1.5.0",
            "_view_name": "HBoxView",
            "box_style": "",
            "children": [
              "IPY_MODEL_a38cec16079c4cbab2dd8a8fdcb41cdf",
              "IPY_MODEL_afde3ec35c30409aa38422a26a601144",
              "IPY_MODEL_6ecb44534cdd4521975011ab307ad080"
            ],
            "layout": "IPY_MODEL_4a2a03fbd05d48dc832b055342b8f707"
          }
        },
        "a38cec16079c4cbab2dd8a8fdcb41cdf": {
          "model_module": "@jupyter-widgets/controls",
          "model_name": "HTMLModel",
          "model_module_version": "1.5.0",
          "state": {
            "_dom_classes": [],
            "_model_module": "@jupyter-widgets/controls",
            "_model_module_version": "1.5.0",
            "_model_name": "HTMLModel",
            "_view_count": null,
            "_view_module": "@jupyter-widgets/controls",
            "_view_module_version": "1.5.0",
            "_view_name": "HTMLView",
            "description": "",
            "description_tooltip": null,
            "layout": "IPY_MODEL_45b7ec331a684202b7603ed9b54e1283",
            "placeholder": "​",
            "style": "IPY_MODEL_dc1f1df7623046799cad8f17d8c90e2c",
            "value": "vocab.txt: 100%"
          }
        },
        "afde3ec35c30409aa38422a26a601144": {
          "model_module": "@jupyter-widgets/controls",
          "model_name": "FloatProgressModel",
          "model_module_version": "1.5.0",
          "state": {
            "_dom_classes": [],
            "_model_module": "@jupyter-widgets/controls",
            "_model_module_version": "1.5.0",
            "_model_name": "FloatProgressModel",
            "_view_count": null,
            "_view_module": "@jupyter-widgets/controls",
            "_view_module_version": "1.5.0",
            "_view_name": "ProgressView",
            "bar_style": "success",
            "description": "",
            "description_tooltip": null,
            "layout": "IPY_MODEL_e657608dd69d422bab72c62001dda52d",
            "max": 378000,
            "min": 0,
            "orientation": "horizontal",
            "style": "IPY_MODEL_e52ca6b942ed4b59b6775513a6e8ef8f",
            "value": 378000
          }
        },
        "6ecb44534cdd4521975011ab307ad080": {
          "model_module": "@jupyter-widgets/controls",
          "model_name": "HTMLModel",
          "model_module_version": "1.5.0",
          "state": {
            "_dom_classes": [],
            "_model_module": "@jupyter-widgets/controls",
            "_model_module_version": "1.5.0",
            "_model_name": "HTMLModel",
            "_view_count": null,
            "_view_module": "@jupyter-widgets/controls",
            "_view_module_version": "1.5.0",
            "_view_name": "HTMLView",
            "description": "",
            "description_tooltip": null,
            "layout": "IPY_MODEL_691e588eaaa54db98a1c41543556003e",
            "placeholder": "​",
            "style": "IPY_MODEL_cd36b0320e6b450981b8dba57c098d47",
            "value": " 378k/378k [00:00&lt;00:00, 5.92MB/s]"
          }
        },
        "4a2a03fbd05d48dc832b055342b8f707": {
          "model_module": "@jupyter-widgets/base",
          "model_name": "LayoutModel",
          "model_module_version": "1.2.0",
          "state": {
            "_model_module": "@jupyter-widgets/base",
            "_model_module_version": "1.2.0",
            "_model_name": "LayoutModel",
            "_view_count": null,
            "_view_module": "@jupyter-widgets/base",
            "_view_module_version": "1.2.0",
            "_view_name": "LayoutView",
            "align_content": null,
            "align_items": null,
            "align_self": null,
            "border": null,
            "bottom": null,
            "display": null,
            "flex": null,
            "flex_flow": null,
            "grid_area": null,
            "grid_auto_columns": null,
            "grid_auto_flow": null,
            "grid_auto_rows": null,
            "grid_column": null,
            "grid_gap": null,
            "grid_row": null,
            "grid_template_areas": null,
            "grid_template_columns": null,
            "grid_template_rows": null,
            "height": null,
            "justify_content": null,
            "justify_items": null,
            "left": null,
            "margin": null,
            "max_height": null,
            "max_width": null,
            "min_height": null,
            "min_width": null,
            "object_fit": null,
            "object_position": null,
            "order": null,
            "overflow": null,
            "overflow_x": null,
            "overflow_y": null,
            "padding": null,
            "right": null,
            "top": null,
            "visibility": null,
            "width": null
          }
        },
        "45b7ec331a684202b7603ed9b54e1283": {
          "model_module": "@jupyter-widgets/base",
          "model_name": "LayoutModel",
          "model_module_version": "1.2.0",
          "state": {
            "_model_module": "@jupyter-widgets/base",
            "_model_module_version": "1.2.0",
            "_model_name": "LayoutModel",
            "_view_count": null,
            "_view_module": "@jupyter-widgets/base",
            "_view_module_version": "1.2.0",
            "_view_name": "LayoutView",
            "align_content": null,
            "align_items": null,
            "align_self": null,
            "border": null,
            "bottom": null,
            "display": null,
            "flex": null,
            "flex_flow": null,
            "grid_area": null,
            "grid_auto_columns": null,
            "grid_auto_flow": null,
            "grid_auto_rows": null,
            "grid_column": null,
            "grid_gap": null,
            "grid_row": null,
            "grid_template_areas": null,
            "grid_template_columns": null,
            "grid_template_rows": null,
            "height": null,
            "justify_content": null,
            "justify_items": null,
            "left": null,
            "margin": null,
            "max_height": null,
            "max_width": null,
            "min_height": null,
            "min_width": null,
            "object_fit": null,
            "object_position": null,
            "order": null,
            "overflow": null,
            "overflow_x": null,
            "overflow_y": null,
            "padding": null,
            "right": null,
            "top": null,
            "visibility": null,
            "width": null
          }
        },
        "dc1f1df7623046799cad8f17d8c90e2c": {
          "model_module": "@jupyter-widgets/controls",
          "model_name": "DescriptionStyleModel",
          "model_module_version": "1.5.0",
          "state": {
            "_model_module": "@jupyter-widgets/controls",
            "_model_module_version": "1.5.0",
            "_model_name": "DescriptionStyleModel",
            "_view_count": null,
            "_view_module": "@jupyter-widgets/base",
            "_view_module_version": "1.2.0",
            "_view_name": "StyleView",
            "description_width": ""
          }
        },
        "e657608dd69d422bab72c62001dda52d": {
          "model_module": "@jupyter-widgets/base",
          "model_name": "LayoutModel",
          "model_module_version": "1.2.0",
          "state": {
            "_model_module": "@jupyter-widgets/base",
            "_model_module_version": "1.2.0",
            "_model_name": "LayoutModel",
            "_view_count": null,
            "_view_module": "@jupyter-widgets/base",
            "_view_module_version": "1.2.0",
            "_view_name": "LayoutView",
            "align_content": null,
            "align_items": null,
            "align_self": null,
            "border": null,
            "bottom": null,
            "display": null,
            "flex": null,
            "flex_flow": null,
            "grid_area": null,
            "grid_auto_columns": null,
            "grid_auto_flow": null,
            "grid_auto_rows": null,
            "grid_column": null,
            "grid_gap": null,
            "grid_row": null,
            "grid_template_areas": null,
            "grid_template_columns": null,
            "grid_template_rows": null,
            "height": null,
            "justify_content": null,
            "justify_items": null,
            "left": null,
            "margin": null,
            "max_height": null,
            "max_width": null,
            "min_height": null,
            "min_width": null,
            "object_fit": null,
            "object_position": null,
            "order": null,
            "overflow": null,
            "overflow_x": null,
            "overflow_y": null,
            "padding": null,
            "right": null,
            "top": null,
            "visibility": null,
            "width": null
          }
        },
        "e52ca6b942ed4b59b6775513a6e8ef8f": {
          "model_module": "@jupyter-widgets/controls",
          "model_name": "ProgressStyleModel",
          "model_module_version": "1.5.0",
          "state": {
            "_model_module": "@jupyter-widgets/controls",
            "_model_module_version": "1.5.0",
            "_model_name": "ProgressStyleModel",
            "_view_count": null,
            "_view_module": "@jupyter-widgets/base",
            "_view_module_version": "1.2.0",
            "_view_name": "StyleView",
            "bar_color": null,
            "description_width": ""
          }
        },
        "691e588eaaa54db98a1c41543556003e": {
          "model_module": "@jupyter-widgets/base",
          "model_name": "LayoutModel",
          "model_module_version": "1.2.0",
          "state": {
            "_model_module": "@jupyter-widgets/base",
            "_model_module_version": "1.2.0",
            "_model_name": "LayoutModel",
            "_view_count": null,
            "_view_module": "@jupyter-widgets/base",
            "_view_module_version": "1.2.0",
            "_view_name": "LayoutView",
            "align_content": null,
            "align_items": null,
            "align_self": null,
            "border": null,
            "bottom": null,
            "display": null,
            "flex": null,
            "flex_flow": null,
            "grid_area": null,
            "grid_auto_columns": null,
            "grid_auto_flow": null,
            "grid_auto_rows": null,
            "grid_column": null,
            "grid_gap": null,
            "grid_row": null,
            "grid_template_areas": null,
            "grid_template_columns": null,
            "grid_template_rows": null,
            "height": null,
            "justify_content": null,
            "justify_items": null,
            "left": null,
            "margin": null,
            "max_height": null,
            "max_width": null,
            "min_height": null,
            "min_width": null,
            "object_fit": null,
            "object_position": null,
            "order": null,
            "overflow": null,
            "overflow_x": null,
            "overflow_y": null,
            "padding": null,
            "right": null,
            "top": null,
            "visibility": null,
            "width": null
          }
        },
        "cd36b0320e6b450981b8dba57c098d47": {
          "model_module": "@jupyter-widgets/controls",
          "model_name": "DescriptionStyleModel",
          "model_module_version": "1.5.0",
          "state": {
            "_model_module": "@jupyter-widgets/controls",
            "_model_module_version": "1.5.0",
            "_model_name": "DescriptionStyleModel",
            "_view_count": null,
            "_view_module": "@jupyter-widgets/base",
            "_view_module_version": "1.2.0",
            "_view_name": "StyleView",
            "description_width": ""
          }
        },
        "3d6b292057c34224b418f772fab10405": {
          "model_module": "@jupyter-widgets/controls",
          "model_name": "HBoxModel",
          "model_module_version": "1.5.0",
          "state": {
            "_dom_classes": [],
            "_model_module": "@jupyter-widgets/controls",
            "_model_module_version": "1.5.0",
            "_model_name": "HBoxModel",
            "_view_count": null,
            "_view_module": "@jupyter-widgets/controls",
            "_view_module_version": "1.5.0",
            "_view_name": "HBoxView",
            "box_style": "",
            "children": [
              "IPY_MODEL_94d11156cbbe4ba983be424e4c39d60b",
              "IPY_MODEL_2dc10e2e043844d8af263c73c450f11b",
              "IPY_MODEL_795acb28e7de42f3a7b7243024abddeb"
            ],
            "layout": "IPY_MODEL_33e721ccc8324042ab614c8bb4041cc4"
          }
        },
        "94d11156cbbe4ba983be424e4c39d60b": {
          "model_module": "@jupyter-widgets/controls",
          "model_name": "HTMLModel",
          "model_module_version": "1.5.0",
          "state": {
            "_dom_classes": [],
            "_model_module": "@jupyter-widgets/controls",
            "_model_module_version": "1.5.0",
            "_model_name": "HTMLModel",
            "_view_count": null,
            "_view_module": "@jupyter-widgets/controls",
            "_view_module_version": "1.5.0",
            "_view_name": "HTMLView",
            "description": "",
            "description_tooltip": null,
            "layout": "IPY_MODEL_04c4fb51951044a9a5ef2fc798851db9",
            "placeholder": "​",
            "style": "IPY_MODEL_73f589ece1d3474ebbe5cf88015d72ad",
            "value": "config.json: 100%"
          }
        },
        "2dc10e2e043844d8af263c73c450f11b": {
          "model_module": "@jupyter-widgets/controls",
          "model_name": "FloatProgressModel",
          "model_module_version": "1.5.0",
          "state": {
            "_dom_classes": [],
            "_model_module": "@jupyter-widgets/controls",
            "_model_module_version": "1.5.0",
            "_model_name": "FloatProgressModel",
            "_view_count": null,
            "_view_module": "@jupyter-widgets/controls",
            "_view_module_version": "1.5.0",
            "_view_name": "ProgressView",
            "bar_style": "success",
            "description": "",
            "description_tooltip": null,
            "layout": "IPY_MODEL_d798a61d6573489d8be19ff8cf71700b",
            "max": 467,
            "min": 0,
            "orientation": "horizontal",
            "style": "IPY_MODEL_4338910c22c647f9a419ca79ac706367",
            "value": 467
          }
        },
        "795acb28e7de42f3a7b7243024abddeb": {
          "model_module": "@jupyter-widgets/controls",
          "model_name": "HTMLModel",
          "model_module_version": "1.5.0",
          "state": {
            "_dom_classes": [],
            "_model_module": "@jupyter-widgets/controls",
            "_model_module_version": "1.5.0",
            "_model_name": "HTMLModel",
            "_view_count": null,
            "_view_module": "@jupyter-widgets/controls",
            "_view_module_version": "1.5.0",
            "_view_name": "HTMLView",
            "description": "",
            "description_tooltip": null,
            "layout": "IPY_MODEL_28d4e52900c244dc9fa69f0b8424ee60",
            "placeholder": "​",
            "style": "IPY_MODEL_b29dacfb1f2d4b5391d2801931c89b09",
            "value": " 467/467 [00:00&lt;00:00, 32.0kB/s]"
          }
        },
        "33e721ccc8324042ab614c8bb4041cc4": {
          "model_module": "@jupyter-widgets/base",
          "model_name": "LayoutModel",
          "model_module_version": "1.2.0",
          "state": {
            "_model_module": "@jupyter-widgets/base",
            "_model_module_version": "1.2.0",
            "_model_name": "LayoutModel",
            "_view_count": null,
            "_view_module": "@jupyter-widgets/base",
            "_view_module_version": "1.2.0",
            "_view_name": "LayoutView",
            "align_content": null,
            "align_items": null,
            "align_self": null,
            "border": null,
            "bottom": null,
            "display": null,
            "flex": null,
            "flex_flow": null,
            "grid_area": null,
            "grid_auto_columns": null,
            "grid_auto_flow": null,
            "grid_auto_rows": null,
            "grid_column": null,
            "grid_gap": null,
            "grid_row": null,
            "grid_template_areas": null,
            "grid_template_columns": null,
            "grid_template_rows": null,
            "height": null,
            "justify_content": null,
            "justify_items": null,
            "left": null,
            "margin": null,
            "max_height": null,
            "max_width": null,
            "min_height": null,
            "min_width": null,
            "object_fit": null,
            "object_position": null,
            "order": null,
            "overflow": null,
            "overflow_x": null,
            "overflow_y": null,
            "padding": null,
            "right": null,
            "top": null,
            "visibility": null,
            "width": null
          }
        },
        "04c4fb51951044a9a5ef2fc798851db9": {
          "model_module": "@jupyter-widgets/base",
          "model_name": "LayoutModel",
          "model_module_version": "1.2.0",
          "state": {
            "_model_module": "@jupyter-widgets/base",
            "_model_module_version": "1.2.0",
            "_model_name": "LayoutModel",
            "_view_count": null,
            "_view_module": "@jupyter-widgets/base",
            "_view_module_version": "1.2.0",
            "_view_name": "LayoutView",
            "align_content": null,
            "align_items": null,
            "align_self": null,
            "border": null,
            "bottom": null,
            "display": null,
            "flex": null,
            "flex_flow": null,
            "grid_area": null,
            "grid_auto_columns": null,
            "grid_auto_flow": null,
            "grid_auto_rows": null,
            "grid_column": null,
            "grid_gap": null,
            "grid_row": null,
            "grid_template_areas": null,
            "grid_template_columns": null,
            "grid_template_rows": null,
            "height": null,
            "justify_content": null,
            "justify_items": null,
            "left": null,
            "margin": null,
            "max_height": null,
            "max_width": null,
            "min_height": null,
            "min_width": null,
            "object_fit": null,
            "object_position": null,
            "order": null,
            "overflow": null,
            "overflow_x": null,
            "overflow_y": null,
            "padding": null,
            "right": null,
            "top": null,
            "visibility": null,
            "width": null
          }
        },
        "73f589ece1d3474ebbe5cf88015d72ad": {
          "model_module": "@jupyter-widgets/controls",
          "model_name": "DescriptionStyleModel",
          "model_module_version": "1.5.0",
          "state": {
            "_model_module": "@jupyter-widgets/controls",
            "_model_module_version": "1.5.0",
            "_model_name": "DescriptionStyleModel",
            "_view_count": null,
            "_view_module": "@jupyter-widgets/base",
            "_view_module_version": "1.2.0",
            "_view_name": "StyleView",
            "description_width": ""
          }
        },
        "d798a61d6573489d8be19ff8cf71700b": {
          "model_module": "@jupyter-widgets/base",
          "model_name": "LayoutModel",
          "model_module_version": "1.2.0",
          "state": {
            "_model_module": "@jupyter-widgets/base",
            "_model_module_version": "1.2.0",
            "_model_name": "LayoutModel",
            "_view_count": null,
            "_view_module": "@jupyter-widgets/base",
            "_view_module_version": "1.2.0",
            "_view_name": "LayoutView",
            "align_content": null,
            "align_items": null,
            "align_self": null,
            "border": null,
            "bottom": null,
            "display": null,
            "flex": null,
            "flex_flow": null,
            "grid_area": null,
            "grid_auto_columns": null,
            "grid_auto_flow": null,
            "grid_auto_rows": null,
            "grid_column": null,
            "grid_gap": null,
            "grid_row": null,
            "grid_template_areas": null,
            "grid_template_columns": null,
            "grid_template_rows": null,
            "height": null,
            "justify_content": null,
            "justify_items": null,
            "left": null,
            "margin": null,
            "max_height": null,
            "max_width": null,
            "min_height": null,
            "min_width": null,
            "object_fit": null,
            "object_position": null,
            "order": null,
            "overflow": null,
            "overflow_x": null,
            "overflow_y": null,
            "padding": null,
            "right": null,
            "top": null,
            "visibility": null,
            "width": null
          }
        },
        "4338910c22c647f9a419ca79ac706367": {
          "model_module": "@jupyter-widgets/controls",
          "model_name": "ProgressStyleModel",
          "model_module_version": "1.5.0",
          "state": {
            "_model_module": "@jupyter-widgets/controls",
            "_model_module_version": "1.5.0",
            "_model_name": "ProgressStyleModel",
            "_view_count": null,
            "_view_module": "@jupyter-widgets/base",
            "_view_module_version": "1.2.0",
            "_view_name": "StyleView",
            "bar_color": null,
            "description_width": ""
          }
        },
        "28d4e52900c244dc9fa69f0b8424ee60": {
          "model_module": "@jupyter-widgets/base",
          "model_name": "LayoutModel",
          "model_module_version": "1.2.0",
          "state": {
            "_model_module": "@jupyter-widgets/base",
            "_model_module_version": "1.2.0",
            "_model_name": "LayoutModel",
            "_view_count": null,
            "_view_module": "@jupyter-widgets/base",
            "_view_module_version": "1.2.0",
            "_view_name": "LayoutView",
            "align_content": null,
            "align_items": null,
            "align_self": null,
            "border": null,
            "bottom": null,
            "display": null,
            "flex": null,
            "flex_flow": null,
            "grid_area": null,
            "grid_auto_columns": null,
            "grid_auto_flow": null,
            "grid_auto_rows": null,
            "grid_column": null,
            "grid_gap": null,
            "grid_row": null,
            "grid_template_areas": null,
            "grid_template_columns": null,
            "grid_template_rows": null,
            "height": null,
            "justify_content": null,
            "justify_items": null,
            "left": null,
            "margin": null,
            "max_height": null,
            "max_width": null,
            "min_height": null,
            "min_width": null,
            "object_fit": null,
            "object_position": null,
            "order": null,
            "overflow": null,
            "overflow_x": null,
            "overflow_y": null,
            "padding": null,
            "right": null,
            "top": null,
            "visibility": null,
            "width": null
          }
        },
        "b29dacfb1f2d4b5391d2801931c89b09": {
          "model_module": "@jupyter-widgets/controls",
          "model_name": "DescriptionStyleModel",
          "model_module_version": "1.5.0",
          "state": {
            "_model_module": "@jupyter-widgets/controls",
            "_model_module_version": "1.5.0",
            "_model_name": "DescriptionStyleModel",
            "_view_count": null,
            "_view_module": "@jupyter-widgets/base",
            "_view_module_version": "1.2.0",
            "_view_name": "StyleView",
            "description_width": ""
          }
        },
        "4d73032b051f442eaa583bc23fa141e9": {
          "model_module": "@jupyter-widgets/controls",
          "model_name": "HBoxModel",
          "model_module_version": "1.5.0",
          "state": {
            "_dom_classes": [],
            "_model_module": "@jupyter-widgets/controls",
            "_model_module_version": "1.5.0",
            "_model_name": "HBoxModel",
            "_view_count": null,
            "_view_module": "@jupyter-widgets/controls",
            "_view_module_version": "1.5.0",
            "_view_name": "HBoxView",
            "box_style": "",
            "children": [
              "IPY_MODEL_c6e1d62a493044f181c09c2f6f02e203",
              "IPY_MODEL_20011c2a862a4ddaa2f1ce1534ff166e",
              "IPY_MODEL_f7a0c9311fa840da9fa44ffbac642d84"
            ],
            "layout": "IPY_MODEL_defce86703ee4ec7aaf8a06619569be2"
          }
        },
        "c6e1d62a493044f181c09c2f6f02e203": {
          "model_module": "@jupyter-widgets/controls",
          "model_name": "HTMLModel",
          "model_module_version": "1.5.0",
          "state": {
            "_dom_classes": [],
            "_model_module": "@jupyter-widgets/controls",
            "_model_module_version": "1.5.0",
            "_model_name": "HTMLModel",
            "_view_count": null,
            "_view_module": "@jupyter-widgets/controls",
            "_view_module_version": "1.5.0",
            "_view_name": "HTMLView",
            "description": "",
            "description_tooltip": null,
            "layout": "IPY_MODEL_8ea2bd60ef974614876e762234d60ce8",
            "placeholder": "​",
            "style": "IPY_MODEL_b4e232719039448fb0065e739991cebe",
            "value": "model.safetensors: 100%"
          }
        },
        "20011c2a862a4ddaa2f1ce1534ff166e": {
          "model_module": "@jupyter-widgets/controls",
          "model_name": "FloatProgressModel",
          "model_module_version": "1.5.0",
          "state": {
            "_dom_classes": [],
            "_model_module": "@jupyter-widgets/controls",
            "_model_module_version": "1.5.0",
            "_model_name": "FloatProgressModel",
            "_view_count": null,
            "_view_module": "@jupyter-widgets/controls",
            "_view_module_version": "1.5.0",
            "_view_name": "ProgressView",
            "bar_style": "success",
            "description": "",
            "description_tooltip": null,
            "layout": "IPY_MODEL_c6bb505405504fdcb0db580553202f97",
            "max": 336396808,
            "min": 0,
            "orientation": "horizontal",
            "style": "IPY_MODEL_8d2c5e7be3dd42d9913565a7c9d8a719",
            "value": 336396808
          }
        },
        "f7a0c9311fa840da9fa44ffbac642d84": {
          "model_module": "@jupyter-widgets/controls",
          "model_name": "HTMLModel",
          "model_module_version": "1.5.0",
          "state": {
            "_dom_classes": [],
            "_model_module": "@jupyter-widgets/controls",
            "_model_module_version": "1.5.0",
            "_model_name": "HTMLModel",
            "_view_count": null,
            "_view_module": "@jupyter-widgets/controls",
            "_view_module_version": "1.5.0",
            "_view_name": "HTMLView",
            "description": "",
            "description_tooltip": null,
            "layout": "IPY_MODEL_08bf9fe5fc684b8fa7acbb36e869517d",
            "placeholder": "​",
            "style": "IPY_MODEL_2ee459df7ba54fb4907d6cf70e292e22",
            "value": " 336M/336M [00:04&lt;00:00, 35.2MB/s]"
          }
        },
        "defce86703ee4ec7aaf8a06619569be2": {
          "model_module": "@jupyter-widgets/base",
          "model_name": "LayoutModel",
          "model_module_version": "1.2.0",
          "state": {
            "_model_module": "@jupyter-widgets/base",
            "_model_module_version": "1.2.0",
            "_model_name": "LayoutModel",
            "_view_count": null,
            "_view_module": "@jupyter-widgets/base",
            "_view_module_version": "1.2.0",
            "_view_name": "LayoutView",
            "align_content": null,
            "align_items": null,
            "align_self": null,
            "border": null,
            "bottom": null,
            "display": null,
            "flex": null,
            "flex_flow": null,
            "grid_area": null,
            "grid_auto_columns": null,
            "grid_auto_flow": null,
            "grid_auto_rows": null,
            "grid_column": null,
            "grid_gap": null,
            "grid_row": null,
            "grid_template_areas": null,
            "grid_template_columns": null,
            "grid_template_rows": null,
            "height": null,
            "justify_content": null,
            "justify_items": null,
            "left": null,
            "margin": null,
            "max_height": null,
            "max_width": null,
            "min_height": null,
            "min_width": null,
            "object_fit": null,
            "object_position": null,
            "order": null,
            "overflow": null,
            "overflow_x": null,
            "overflow_y": null,
            "padding": null,
            "right": null,
            "top": null,
            "visibility": null,
            "width": null
          }
        },
        "8ea2bd60ef974614876e762234d60ce8": {
          "model_module": "@jupyter-widgets/base",
          "model_name": "LayoutModel",
          "model_module_version": "1.2.0",
          "state": {
            "_model_module": "@jupyter-widgets/base",
            "_model_module_version": "1.2.0",
            "_model_name": "LayoutModel",
            "_view_count": null,
            "_view_module": "@jupyter-widgets/base",
            "_view_module_version": "1.2.0",
            "_view_name": "LayoutView",
            "align_content": null,
            "align_items": null,
            "align_self": null,
            "border": null,
            "bottom": null,
            "display": null,
            "flex": null,
            "flex_flow": null,
            "grid_area": null,
            "grid_auto_columns": null,
            "grid_auto_flow": null,
            "grid_auto_rows": null,
            "grid_column": null,
            "grid_gap": null,
            "grid_row": null,
            "grid_template_areas": null,
            "grid_template_columns": null,
            "grid_template_rows": null,
            "height": null,
            "justify_content": null,
            "justify_items": null,
            "left": null,
            "margin": null,
            "max_height": null,
            "max_width": null,
            "min_height": null,
            "min_width": null,
            "object_fit": null,
            "object_position": null,
            "order": null,
            "overflow": null,
            "overflow_x": null,
            "overflow_y": null,
            "padding": null,
            "right": null,
            "top": null,
            "visibility": null,
            "width": null
          }
        },
        "b4e232719039448fb0065e739991cebe": {
          "model_module": "@jupyter-widgets/controls",
          "model_name": "DescriptionStyleModel",
          "model_module_version": "1.5.0",
          "state": {
            "_model_module": "@jupyter-widgets/controls",
            "_model_module_version": "1.5.0",
            "_model_name": "DescriptionStyleModel",
            "_view_count": null,
            "_view_module": "@jupyter-widgets/base",
            "_view_module_version": "1.2.0",
            "_view_name": "StyleView",
            "description_width": ""
          }
        },
        "c6bb505405504fdcb0db580553202f97": {
          "model_module": "@jupyter-widgets/base",
          "model_name": "LayoutModel",
          "model_module_version": "1.2.0",
          "state": {
            "_model_module": "@jupyter-widgets/base",
            "_model_module_version": "1.2.0",
            "_model_name": "LayoutModel",
            "_view_count": null,
            "_view_module": "@jupyter-widgets/base",
            "_view_module_version": "1.2.0",
            "_view_name": "LayoutView",
            "align_content": null,
            "align_items": null,
            "align_self": null,
            "border": null,
            "bottom": null,
            "display": null,
            "flex": null,
            "flex_flow": null,
            "grid_area": null,
            "grid_auto_columns": null,
            "grid_auto_flow": null,
            "grid_auto_rows": null,
            "grid_column": null,
            "grid_gap": null,
            "grid_row": null,
            "grid_template_areas": null,
            "grid_template_columns": null,
            "grid_template_rows": null,
            "height": null,
            "justify_content": null,
            "justify_items": null,
            "left": null,
            "margin": null,
            "max_height": null,
            "max_width": null,
            "min_height": null,
            "min_width": null,
            "object_fit": null,
            "object_position": null,
            "order": null,
            "overflow": null,
            "overflow_x": null,
            "overflow_y": null,
            "padding": null,
            "right": null,
            "top": null,
            "visibility": null,
            "width": null
          }
        },
        "8d2c5e7be3dd42d9913565a7c9d8a719": {
          "model_module": "@jupyter-widgets/controls",
          "model_name": "ProgressStyleModel",
          "model_module_version": "1.5.0",
          "state": {
            "_model_module": "@jupyter-widgets/controls",
            "_model_module_version": "1.5.0",
            "_model_name": "ProgressStyleModel",
            "_view_count": null,
            "_view_module": "@jupyter-widgets/base",
            "_view_module_version": "1.2.0",
            "_view_name": "StyleView",
            "bar_color": null,
            "description_width": ""
          }
        },
        "08bf9fe5fc684b8fa7acbb36e869517d": {
          "model_module": "@jupyter-widgets/base",
          "model_name": "LayoutModel",
          "model_module_version": "1.2.0",
          "state": {
            "_model_module": "@jupyter-widgets/base",
            "_model_module_version": "1.2.0",
            "_model_name": "LayoutModel",
            "_view_count": null,
            "_view_module": "@jupyter-widgets/base",
            "_view_module_version": "1.2.0",
            "_view_name": "LayoutView",
            "align_content": null,
            "align_items": null,
            "align_self": null,
            "border": null,
            "bottom": null,
            "display": null,
            "flex": null,
            "flex_flow": null,
            "grid_area": null,
            "grid_auto_columns": null,
            "grid_auto_flow": null,
            "grid_auto_rows": null,
            "grid_column": null,
            "grid_gap": null,
            "grid_row": null,
            "grid_template_areas": null,
            "grid_template_columns": null,
            "grid_template_rows": null,
            "height": null,
            "justify_content": null,
            "justify_items": null,
            "left": null,
            "margin": null,
            "max_height": null,
            "max_width": null,
            "min_height": null,
            "min_width": null,
            "object_fit": null,
            "object_position": null,
            "order": null,
            "overflow": null,
            "overflow_x": null,
            "overflow_y": null,
            "padding": null,
            "right": null,
            "top": null,
            "visibility": null,
            "width": null
          }
        },
        "2ee459df7ba54fb4907d6cf70e292e22": {
          "model_module": "@jupyter-widgets/controls",
          "model_name": "DescriptionStyleModel",
          "model_module_version": "1.5.0",
          "state": {
            "_model_module": "@jupyter-widgets/controls",
            "_model_module_version": "1.5.0",
            "_model_name": "DescriptionStyleModel",
            "_view_count": null,
            "_view_module": "@jupyter-widgets/base",
            "_view_module_version": "1.2.0",
            "_view_name": "StyleView",
            "description_width": ""
          }
        }
      }
    }
  },
  "cells": [
    {
      "cell_type": "markdown",
      "metadata": {
        "id": "view-in-github",
        "colab_type": "text"
      },
      "source": [
        "<a href=\"https://colab.research.google.com/github/tungduong03/App-Chat/blob/main/secBERT.ipynb\" target=\"_parent\"><img src=\"https://colab.research.google.com/assets/colab-badge.svg\" alt=\"Open In Colab\"/></a>"
      ]
    },
    {
      "cell_type": "code",
      "execution_count": 1,
      "metadata": {
        "id": "KsQaz0yxoiU2"
      },
      "outputs": [],
      "source": [
        "import pandas as pd\n",
        "from sklearn.model_selection import train_test_split\n",
        "from sklearn.preprocessing import LabelEncoder\n",
        "from transformers import BertTokenizer"
      ]
    },
    {
      "cell_type": "code",
      "source": [
        "from google.colab import drive\n",
        "drive.mount('/content/drive')\n",
        "%cd /content/drive/MyDrive/Code_Injection_Dataset"
      ],
      "metadata": {
        "colab": {
          "base_uri": "https://localhost:8080/"
        },
        "id": "vSIof4Uaoz4P",
        "outputId": "494b9c90-e763-4b3c-cc6c-dccfc04365df"
      },
      "execution_count": 2,
      "outputs": [
        {
          "output_type": "stream",
          "name": "stdout",
          "text": [
            "Mounted at /content/drive\n",
            "/content/drive/MyDrive/Code_Injection_Dataset\n"
          ]
        }
      ]
    },
    {
      "cell_type": "code",
      "source": [
        "df = pd.read_csv('dataset_capec.csv')  # Đọc file CSV"
      ],
      "metadata": {
        "id": "C-XYFTpoo7r9"
      },
      "execution_count": 3,
      "outputs": []
    },
    {
      "cell_type": "code",
      "source": [
        "# Đếm số lượng record cho mỗi loại label\n",
        "label_counts = df['label'].value_counts()\n",
        "\n",
        "# Lọc các label có số lượng record > 20000\n",
        "labels_above_20000 = label_counts[label_counts > 20000].index\n",
        "\n",
        "# Lấy 20,000 record đầu tiên cho các label đó\n",
        "df_above_20000 = df[df['label'].isin(labels_above_20000)]\n",
        "df_above_20000 = df_above_20000.groupby('label').head(20000)\n",
        "\n",
        "# Lấy các record còn lại (cho các label không có số lượng lớn hơn 20000)\n",
        "df_below_20000 = df[~df['label'].isin(labels_above_20000)]\n",
        "\n",
        "# Ghép các record lại với nhau\n",
        "df_combined = pd.concat([df_below_20000, df_above_20000])\n",
        "\n",
        "# Xáo trộn dữ liệu sau khi ghép\n",
        "df_combined = df_combined.sample(frac=1).reset_index(drop=True)\n",
        "\n",
        "df = df_combined"
      ],
      "metadata": {
        "id": "7TaN74xrpAg0"
      },
      "execution_count": 4,
      "outputs": []
    },
    {
      "cell_type": "code",
      "source": [
        "# Phân chia dữ liệu train-test\n",
        "X_train, X_test, y_train, y_test = train_test_split(df['text'],\n",
        "                                                    df['label'],\n",
        "                                                    test_size=0.2,\n",
        "                                                    shuffle=True) # shuffle=True"
      ],
      "metadata": {
        "id": "I1CImfPCpH-2"
      },
      "execution_count": 5,
      "outputs": []
    },
    {
      "cell_type": "code",
      "source": [
        "# Encode labels\n",
        "label_encoder = LabelEncoder()\n",
        "y_train_encoded = label_encoder.fit_transform(y_train)  # Encode train labels\n",
        "y_test_encoded = label_encoder.transform(y_test)        # Encode test labels\n",
        "\n",
        "# In danh sách nhãn đã mã hóa\n",
        "print(label_encoder.classes_)  # ['000 - Normal', '001 - XSS', ...]\n",
        "num_classes = len(label_encoder.classes_)  # Số lượng lớp\n",
        "num_classes"
      ],
      "metadata": {
        "colab": {
          "base_uri": "https://localhost:8080/"
        },
        "id": "NBb4oKizpOcT",
        "outputId": "ff82fb67-35a4-4443-afc6-03df7a104dfc"
      },
      "execution_count": 6,
      "outputs": [
        {
          "output_type": "stream",
          "name": "stdout",
          "text": [
            "['000 - Normal' '126 - Path Traversal' '153 - Input Data Manipulation'\n",
            " '194 - Fake the Source of Data' '242 - Code Injection'\n",
            " '272 - Protocol Manipulation' '310 - Scanning for Vulnerable Software'\n",
            " '34 - HTTP Response Splitting' '66 - SQL Injection']\n"
          ]
        },
        {
          "output_type": "execute_result",
          "data": {
            "text/plain": [
              "9"
            ]
          },
          "metadata": {},
          "execution_count": 6
        }
      ]
    },
    {
      "cell_type": "code",
      "source": [
        "# Tải Tokenizer của SecBERT\n",
        "from transformers import BertTokenizer\n",
        "\n",
        "tokenizer = BertTokenizer.from_pretrained(\"jackaduma/SecBERT\")  # SecBERT\n",
        "\n",
        "#from transformers import AutoTokenizer, AutoModelForMaskedLM\n",
        "\n",
        "#tokenizer = AutoTokenizer.from_pretrained(\"jackaduma/SecBERT\")"
      ],
      "metadata": {
        "colab": {
          "base_uri": "https://localhost:8080/",
          "height": 190,
          "referenced_widgets": [
            "6faace39954c4f96970634589bf409ba",
            "a38cec16079c4cbab2dd8a8fdcb41cdf",
            "afde3ec35c30409aa38422a26a601144",
            "6ecb44534cdd4521975011ab307ad080",
            "4a2a03fbd05d48dc832b055342b8f707",
            "45b7ec331a684202b7603ed9b54e1283",
            "dc1f1df7623046799cad8f17d8c90e2c",
            "e657608dd69d422bab72c62001dda52d",
            "e52ca6b942ed4b59b6775513a6e8ef8f",
            "691e588eaaa54db98a1c41543556003e",
            "cd36b0320e6b450981b8dba57c098d47",
            "3d6b292057c34224b418f772fab10405",
            "94d11156cbbe4ba983be424e4c39d60b",
            "2dc10e2e043844d8af263c73c450f11b",
            "795acb28e7de42f3a7b7243024abddeb",
            "33e721ccc8324042ab614c8bb4041cc4",
            "04c4fb51951044a9a5ef2fc798851db9",
            "73f589ece1d3474ebbe5cf88015d72ad",
            "d798a61d6573489d8be19ff8cf71700b",
            "4338910c22c647f9a419ca79ac706367",
            "28d4e52900c244dc9fa69f0b8424ee60",
            "b29dacfb1f2d4b5391d2801931c89b09"
          ]
        },
        "id": "hmu_s8YTpRIL",
        "outputId": "75b4177c-a131-4da2-a7aa-c89283ab220f"
      },
      "execution_count": 7,
      "outputs": [
        {
          "output_type": "stream",
          "name": "stderr",
          "text": [
            "/usr/local/lib/python3.10/dist-packages/huggingface_hub/utils/_auth.py:94: UserWarning: \n",
            "The secret `HF_TOKEN` does not exist in your Colab secrets.\n",
            "To authenticate with the Hugging Face Hub, create a token in your settings tab (https://huggingface.co/settings/tokens), set it as secret in your Google Colab and restart your session.\n",
            "You will be able to reuse this secret in all of your notebooks.\n",
            "Please note that authentication is recommended but still optional to access public models or datasets.\n",
            "  warnings.warn(\n"
          ]
        },
        {
          "output_type": "display_data",
          "data": {
            "text/plain": [
              "vocab.txt:   0%|          | 0.00/378k [00:00<?, ?B/s]"
            ],
            "application/vnd.jupyter.widget-view+json": {
              "version_major": 2,
              "version_minor": 0,
              "model_id": "6faace39954c4f96970634589bf409ba"
            }
          },
          "metadata": {}
        },
        {
          "output_type": "display_data",
          "data": {
            "text/plain": [
              "config.json:   0%|          | 0.00/467 [00:00<?, ?B/s]"
            ],
            "application/vnd.jupyter.widget-view+json": {
              "version_major": 2,
              "version_minor": 0,
              "model_id": "3d6b292057c34224b418f772fab10405"
            }
          },
          "metadata": {}
        }
      ]
    },
    {
      "cell_type": "code",
      "source": [
        "# Token hóa văn bản\n",
        "# Tokenize dữ liệu train và test\n",
        "def preprocess_data(texts, tokenizer, max_length=128):\n",
        "    # Convert the Pandas Series to a list of strings\n",
        "    texts = texts.tolist()  # This line is added to fix the error\n",
        "    return tokenizer(\n",
        "        texts,\n",
        "        padding='max_length',        # Thêm padding\n",
        "        truncation=True,             # Cắt ngắn văn bản\n",
        "        max_length=max_length,       # Độ dài tối đa\n",
        "        return_tensors='tf'          # Trả về Tensor\n",
        "    )\n",
        "\n",
        "X_train_tokens = preprocess_data(X_train, tokenizer)\n",
        "X_test_tokens = preprocess_data(X_test, tokenizer)"
      ],
      "metadata": {
        "id": "4U2FMzuhpTO8"
      },
      "execution_count": 8,
      "outputs": []
    },
    {
      "cell_type": "code",
      "source": [
        "from transformers import TFBertModel\n",
        "import tensorflow as tf\n",
        "from tensorflow.keras.layers import Dense, Dropout\n",
        "from tensorflow.keras.models import Model\n",
        "\n",
        "# Tải mô hình SecBERT\n",
        "secbert_model = TFBertModel.from_pretrained(\"jackaduma/SecBERT\")\n",
        "\n",
        "# Đóng băng các lớp SecBERT (tùy chọn, có thể fine-tune)\n",
        "secbert_model.trainable = False"
      ],
      "metadata": {
        "colab": {
          "base_uri": "https://localhost:8080/",
          "height": 160,
          "referenced_widgets": [
            "4d73032b051f442eaa583bc23fa141e9",
            "c6e1d62a493044f181c09c2f6f02e203",
            "20011c2a862a4ddaa2f1ce1534ff166e",
            "f7a0c9311fa840da9fa44ffbac642d84",
            "defce86703ee4ec7aaf8a06619569be2",
            "8ea2bd60ef974614876e762234d60ce8",
            "b4e232719039448fb0065e739991cebe",
            "c6bb505405504fdcb0db580553202f97",
            "8d2c5e7be3dd42d9913565a7c9d8a719",
            "08bf9fe5fc684b8fa7acbb36e869517d",
            "2ee459df7ba54fb4907d6cf70e292e22"
          ]
        },
        "id": "tIv2tcaKpVmF",
        "outputId": "1745727d-89d0-49f4-d24a-e76be3c6f64a"
      },
      "execution_count": 9,
      "outputs": [
        {
          "output_type": "display_data",
          "data": {
            "text/plain": [
              "model.safetensors:   0%|          | 0.00/336M [00:00<?, ?B/s]"
            ],
            "application/vnd.jupyter.widget-view+json": {
              "version_major": 2,
              "version_minor": 0,
              "model_id": "4d73032b051f442eaa583bc23fa141e9"
            }
          },
          "metadata": {}
        },
        {
          "output_type": "stream",
          "name": "stderr",
          "text": [
            "Some weights of the PyTorch model were not used when initializing the TF 2.0 model TFBertModel: ['cls.predictions.bias', 'cls.predictions.transform.dense.weight', 'cls.predictions.transform.LayerNorm.bias', 'cls.predictions.transform.dense.bias', 'bert.embeddings.position_ids', 'cls.predictions.transform.LayerNorm.weight']\n",
            "- This IS expected if you are initializing TFBertModel from a PyTorch model trained on another task or with another architecture (e.g. initializing a TFBertForSequenceClassification model from a BertForPreTraining model).\n",
            "- This IS NOT expected if you are initializing TFBertModel from a PyTorch model that you expect to be exactly identical (e.g. initializing a TFBertForSequenceClassification model from a BertForSequenceClassification model).\n",
            "All the weights of TFBertModel were initialized from the PyTorch model.\n",
            "If your task is similar to the task the model of the checkpoint was trained on, you can already use TFBertModel for predictions without further training.\n"
          ]
        }
      ]
    },
    {
      "cell_type": "markdown",
      "source": [
        "**secBERT + fine-tune + epoch = 5**"
      ],
      "metadata": {
        "id": "Jlj4EwwLwzHB"
      }
    },
    {
      "cell_type": "code",
      "source": [
        "from tensorflow.keras.layers import Lambda\n",
        "\n",
        "# Bật fine-tune\n",
        "secbert_model.trainable = True\n",
        "\n",
        "# Input layers\n",
        "input_ids = tf.keras.Input(shape=(128,), dtype=tf.int32, name=\"input_ids\")\n",
        "attention_mask = tf.keras.Input(shape=(128,), dtype=tf.int32, name=\"attention_mask\")\n",
        "\n",
        "# Gọi SecBERT qua Lambda layer, specify output_shape\n",
        "bert_outputs = Lambda(\n",
        "    lambda x: secbert_model(input_ids=x[0], attention_mask=x[1])[0][:, 0, :],\n",
        "    output_shape=(768,)  # Specify the output shape here\n",
        ")([input_ids, attention_mask])\n",
        "\n",
        "# Thêm các lớp Dense\n",
        "x = Dense(128, activation=\"relu\")(bert_outputs)\n",
        "x = Dropout(0.5)(x)\n",
        "output = Dense(num_classes, activation=\"softmax\")(x)\n",
        "\n",
        "# Tạo mô hình\n",
        "model = Model(inputs=[input_ids, attention_mask], outputs=output)\n",
        "\n",
        "# Compile mô hình\n",
        "model.compile(optimizer=\"adam\", loss=\"sparse_categorical_crossentropy\", metrics=[\"accuracy\"])"
      ],
      "metadata": {
        "id": "wKa4z7lMpYE0"
      },
      "execution_count": 10,
      "outputs": []
    },
    {
      "cell_type": "code",
      "source": [
        "# huấn luyện mô hình\n",
        "history = model.fit(\n",
        "    {\n",
        "        \"input_ids\": X_train_tokens[\"input_ids\"],\n",
        "        \"attention_mask\": X_train_tokens[\"attention_mask\"]\n",
        "    },\n",
        "    y_train_encoded,\n",
        "    validation_split=0.2,\n",
        "    epochs=5,\n",
        "    batch_size=128\n",
        ")"
      ],
      "metadata": {
        "colab": {
          "base_uri": "https://localhost:8080/"
        },
        "id": "2Zi1MV5PpaF8",
        "outputId": "afc591a0-b5e0-44c6-ebd2-786463b6b188"
      },
      "execution_count": 12,
      "outputs": [
        {
          "output_type": "stream",
          "name": "stdout",
          "text": [
            "Epoch 1/5\n",
            "\u001b[1m607/607\u001b[0m \u001b[32m━━━━━━━━━━━━━━━━━━━━\u001b[0m\u001b[37m\u001b[0m \u001b[1m379s\u001b[0m 593ms/step - accuracy: 0.3357 - loss: 1.7659 - val_accuracy: 0.4237 - val_loss: 1.5100\n",
            "Epoch 2/5\n",
            "\u001b[1m607/607\u001b[0m \u001b[32m━━━━━━━━━━━━━━━━━━━━\u001b[0m\u001b[37m\u001b[0m \u001b[1m363s\u001b[0m 580ms/step - accuracy: 0.3988 - loss: 1.5650 - val_accuracy: 0.4367 - val_loss: 1.4744\n",
            "Epoch 3/5\n",
            "\u001b[1m607/607\u001b[0m \u001b[32m━━━━━━━━━━━━━━━━━━━━\u001b[0m\u001b[37m\u001b[0m \u001b[1m352s\u001b[0m 580ms/step - accuracy: 0.4057 - loss: 1.5442 - val_accuracy: 0.4355 - val_loss: 1.4651\n",
            "Epoch 4/5\n",
            "\u001b[1m607/607\u001b[0m \u001b[32m━━━━━━━━━━━━━━━━━━━━\u001b[0m\u001b[37m\u001b[0m \u001b[1m351s\u001b[0m 579ms/step - accuracy: 0.4061 - loss: 1.5325 - val_accuracy: 0.4396 - val_loss: 1.4744\n",
            "Epoch 5/5\n",
            "\u001b[1m607/607\u001b[0m \u001b[32m━━━━━━━━━━━━━━━━━━━━\u001b[0m\u001b[37m\u001b[0m \u001b[1m394s\u001b[0m 599ms/step - accuracy: 0.4150 - loss: 1.5222 - val_accuracy: 0.4357 - val_loss: 1.4585\n"
          ]
        }
      ]
    },
    {
      "cell_type": "code",
      "source": [
        "from sklearn.metrics import classification_report\n",
        "\n",
        "# Dự đoán trên tập validation hoặc test\n",
        "y_pred = model.predict({\n",
        "    \"input_ids\": X_test_tokens[\"input_ids\"],\n",
        "    \"attention_mask\": X_test_tokens[\"attention_mask\"]\n",
        "})\n",
        "\n",
        "# Lấy nhãn dự đoán từ xác suất (với softmax)\n",
        "y_pred_labels = y_pred.argmax(axis=1)\n",
        "\n",
        "label_names = label_encoder.classes_  # Lấy danh sách tên nhãn\n",
        "\n",
        "# Tính toán precision, recall, f1-score\n",
        "print(classification_report(y_test_encoded, y_pred_labels, target_names=label_names))\n"
      ],
      "metadata": {
        "colab": {
          "base_uri": "https://localhost:8080/"
        },
        "id": "xUaNj7EPv0GA",
        "outputId": "759c4a3a-17a4-4f25-c942-f2fe92339d95"
      },
      "execution_count": 17,
      "outputs": [
        {
          "output_type": "stream",
          "name": "stdout",
          "text": [
            "\u001b[1m758/758\u001b[0m \u001b[32m━━━━━━━━━━━━━━━━━━━━\u001b[0m\u001b[37m\u001b[0m \u001b[1m93s\u001b[0m 123ms/step\n",
            "                                        precision    recall  f1-score   support\n",
            "\n",
            "                          000 - Normal       0.35      0.59      0.44      3974\n",
            "                  126 - Path Traversal       0.83      0.75      0.79      3545\n",
            "         153 - Input Data Manipulation       0.00      0.00      0.00       272\n",
            "         194 - Fake the Source of Data       0.31      0.44      0.37      3965\n",
            "                  242 - Code Injection       0.45      0.63      0.52      2751\n",
            "           272 - Protocol Manipulation       0.00      0.00      0.00      1381\n",
            "310 - Scanning for Vulnerable Software       0.77      0.47      0.58       478\n",
            "          34 - HTTP Response Splitting       0.43      0.19      0.26      3810\n",
            "                    66 - SQL Injection       0.39      0.28      0.32      4067\n",
            "\n",
            "                              accuracy                           0.43     24243\n",
            "                             macro avg       0.39      0.37      0.36     24243\n",
            "                          weighted avg       0.43      0.43      0.41     24243\n",
            "\n"
          ]
        },
        {
          "output_type": "stream",
          "name": "stderr",
          "text": [
            "/usr/local/lib/python3.10/dist-packages/sklearn/metrics/_classification.py:1565: UndefinedMetricWarning: Precision is ill-defined and being set to 0.0 in labels with no predicted samples. Use `zero_division` parameter to control this behavior.\n",
            "  _warn_prf(average, modifier, f\"{metric.capitalize()} is\", len(result))\n",
            "/usr/local/lib/python3.10/dist-packages/sklearn/metrics/_classification.py:1565: UndefinedMetricWarning: Precision is ill-defined and being set to 0.0 in labels with no predicted samples. Use `zero_division` parameter to control this behavior.\n",
            "  _warn_prf(average, modifier, f\"{metric.capitalize()} is\", len(result))\n",
            "/usr/local/lib/python3.10/dist-packages/sklearn/metrics/_classification.py:1565: UndefinedMetricWarning: Precision is ill-defined and being set to 0.0 in labels with no predicted samples. Use `zero_division` parameter to control this behavior.\n",
            "  _warn_prf(average, modifier, f\"{metric.capitalize()} is\", len(result))\n"
          ]
        }
      ]
    },
    {
      "cell_type": "code",
      "source": [
        "test_loss, test_acc = model.evaluate(\n",
        "    {\"input_ids\": X_test_tokens[\"input_ids\"], \"attention_mask\": X_test_tokens[\"attention_mask\"]},\n",
        "    y_test_encoded\n",
        ")\n",
        "print(f\"Test accuracy: {test_acc}\")\n"
      ],
      "metadata": {
        "colab": {
          "base_uri": "https://localhost:8080/"
        },
        "id": "a8CY7pJfxGbl",
        "outputId": "d847ef76-46d8-466d-a804-58ed7e856eab"
      },
      "execution_count": 16,
      "outputs": [
        {
          "output_type": "stream",
          "name": "stdout",
          "text": [
            "\u001b[1m758/758\u001b[0m \u001b[32m━━━━━━━━━━━━━━━━━━━━\u001b[0m\u001b[37m\u001b[0m \u001b[1m103s\u001b[0m 132ms/step - accuracy: 0.4314 - loss: 1.4606\n",
            "Test accuracy: 0.4344346821308136\n"
          ]
        }
      ]
    },
    {
      "cell_type": "markdown",
      "source": [
        "**secBERT + no-fine-tune + epoch=5**"
      ],
      "metadata": {
        "id": "tjF2OOsX1m1S"
      }
    },
    {
      "cell_type": "code",
      "source": [
        "from tensorflow.keras.layers import Lambda\n",
        "\n",
        "# Bật fine-tune\n",
        "secbert_model.trainable = False\n",
        "\n",
        "# Input layers\n",
        "input_ids = tf.keras.Input(shape=(128,), dtype=tf.int32, name=\"input_ids\")\n",
        "attention_mask = tf.keras.Input(shape=(128,), dtype=tf.int32, name=\"attention_mask\")\n",
        "\n",
        "# Gọi SecBERT qua Lambda layer, specify output_shape\n",
        "bert_outputs = Lambda(\n",
        "    lambda x: secbert_model(input_ids=x[0], attention_mask=x[1])[0][:, 0, :],\n",
        "    output_shape=(768,)  # Specify the output shape here\n",
        ")([input_ids, attention_mask])\n",
        "\n",
        "# Thêm các lớp Dense\n",
        "x = Dense(128, activation=\"relu\")(bert_outputs)\n",
        "x = Dropout(0.5)(x)\n",
        "output = Dense(num_classes, activation=\"softmax\")(x)\n",
        "\n",
        "# Tạo mô hình\n",
        "model = Model(inputs=[input_ids, attention_mask], outputs=output)\n",
        "\n",
        "# Compile mô hình\n",
        "model.compile(optimizer=\"adam\", loss=\"sparse_categorical_crossentropy\", metrics=[\"accuracy\"])"
      ],
      "metadata": {
        "id": "ilnVGMhD1tVp"
      },
      "execution_count": 18,
      "outputs": []
    },
    {
      "cell_type": "code",
      "source": [
        "# huấn luyện mô hình\n",
        "history = model.fit(\n",
        "    {\n",
        "        \"input_ids\": X_train_tokens[\"input_ids\"],\n",
        "        \"attention_mask\": X_train_tokens[\"attention_mask\"]\n",
        "    },\n",
        "    y_train_encoded,\n",
        "    validation_split=0.2,\n",
        "    epochs=5,\n",
        "    batch_size=128\n",
        ")"
      ],
      "metadata": {
        "colab": {
          "base_uri": "https://localhost:8080/"
        },
        "id": "XDH0Z0Dc12pR",
        "outputId": "2f3729d9-de89-4b66-8f18-ae69bd18ccdd"
      },
      "execution_count": 19,
      "outputs": [
        {
          "output_type": "stream",
          "name": "stdout",
          "text": [
            "Epoch 1/5\n",
            "\u001b[1m607/607\u001b[0m \u001b[32m━━━━━━━━━━━━━━━━━━━━\u001b[0m\u001b[37m\u001b[0m \u001b[1m376s\u001b[0m 601ms/step - accuracy: 0.3367 - loss: 1.7535 - val_accuracy: 0.4174 - val_loss: 1.4904\n",
            "Epoch 2/5\n",
            "\u001b[1m607/607\u001b[0m \u001b[32m━━━━━━━━━━━━━━━━━━━━\u001b[0m\u001b[37m\u001b[0m \u001b[1m365s\u001b[0m 579ms/step - accuracy: 0.4052 - loss: 1.5509 - val_accuracy: 0.4403 - val_loss: 1.4671\n",
            "Epoch 3/5\n",
            "\u001b[1m607/607\u001b[0m \u001b[32m━━━━━━━━━━━━━━━━━━━━\u001b[0m\u001b[37m\u001b[0m \u001b[1m382s\u001b[0m 579ms/step - accuracy: 0.4136 - loss: 1.5389 - val_accuracy: 0.4350 - val_loss: 1.4730\n",
            "Epoch 4/5\n",
            "\u001b[1m607/607\u001b[0m \u001b[32m━━━━━━━━━━━━━━━━━━━━\u001b[0m\u001b[37m\u001b[0m \u001b[1m394s\u001b[0m 599ms/step - accuracy: 0.4161 - loss: 1.5305 - val_accuracy: 0.4340 - val_loss: 1.4654\n",
            "Epoch 5/5\n",
            "\u001b[1m607/607\u001b[0m \u001b[32m━━━━━━━━━━━━━━━━━━━━\u001b[0m\u001b[37m\u001b[0m \u001b[1m370s\u001b[0m 580ms/step - accuracy: 0.4141 - loss: 1.5242 - val_accuracy: 0.4349 - val_loss: 1.4582\n"
          ]
        }
      ]
    },
    {
      "cell_type": "code",
      "source": [
        "test_loss, test_acc = model.evaluate(\n",
        "    {\"input_ids\": X_test_tokens[\"input_ids\"], \"attention_mask\": X_test_tokens[\"attention_mask\"]},\n",
        "    y_test_encoded\n",
        ")\n",
        "print(f\"Test accuracy: {test_acc}\")"
      ],
      "metadata": {
        "colab": {
          "base_uri": "https://localhost:8080/"
        },
        "id": "xCv1D30H9vX1",
        "outputId": "8922ec26-390b-4279-da91-bd70b05964e8"
      },
      "execution_count": 20,
      "outputs": [
        {
          "output_type": "stream",
          "name": "stdout",
          "text": [
            "\u001b[1m758/758\u001b[0m \u001b[32m━━━━━━━━━━━━━━━━━━━━\u001b[0m\u001b[37m\u001b[0m \u001b[1m101s\u001b[0m 126ms/step - accuracy: 0.4315 - loss: 1.4583\n",
            "Test accuracy: 0.43340346217155457\n"
          ]
        }
      ]
    },
    {
      "cell_type": "code",
      "source": [
        "from sklearn.metrics import classification_report\n",
        "\n",
        "# Dự đoán trên tập validation hoặc test\n",
        "y_pred = model.predict({\n",
        "    \"input_ids\": X_test_tokens[\"input_ids\"],\n",
        "    \"attention_mask\": X_test_tokens[\"attention_mask\"]\n",
        "})\n",
        "\n",
        "# Lấy nhãn dự đoán từ xác suất (với softmax)\n",
        "y_pred_labels = y_pred.argmax(axis=1)\n",
        "\n",
        "label_names = label_encoder.classes_  # Lấy danh sách tên nhãn\n",
        "\n",
        "# Tính toán precision, recall, f1-score\n",
        "print(classification_report(y_test_encoded, y_pred_labels, target_names=label_names))"
      ],
      "metadata": {
        "colab": {
          "base_uri": "https://localhost:8080/"
        },
        "id": "g1acXu2L9zIX",
        "outputId": "45c8b11f-a6b8-4ad9-cbf5-7ed2afbbd27b"
      },
      "execution_count": 21,
      "outputs": [
        {
          "output_type": "stream",
          "name": "stdout",
          "text": [
            "\u001b[1m758/758\u001b[0m \u001b[32m━━━━━━━━━━━━━━━━━━━━\u001b[0m\u001b[37m\u001b[0m \u001b[1m102s\u001b[0m 130ms/step\n",
            "                                        precision    recall  f1-score   support\n",
            "\n",
            "                          000 - Normal       0.34      0.51      0.40      3974\n",
            "                  126 - Path Traversal       0.80      0.77      0.78      3545\n",
            "         153 - Input Data Manipulation       0.00      0.00      0.00       272\n",
            "         194 - Fake the Source of Data       0.36      0.22      0.27      3965\n",
            "                  242 - Code Injection       0.44      0.60      0.51      2751\n",
            "           272 - Protocol Manipulation       0.00      0.00      0.00      1381\n",
            "310 - Scanning for Vulnerable Software       0.77      0.47      0.58       478\n",
            "          34 - HTTP Response Splitting       0.43      0.24      0.31      3810\n",
            "                    66 - SQL Injection       0.33      0.52      0.41      4067\n",
            "\n",
            "                              accuracy                           0.43     24243\n",
            "                             macro avg       0.39      0.37      0.36     24243\n",
            "                          weighted avg       0.42      0.43      0.41     24243\n",
            "\n"
          ]
        },
        {
          "output_type": "stream",
          "name": "stderr",
          "text": [
            "/usr/local/lib/python3.10/dist-packages/sklearn/metrics/_classification.py:1565: UndefinedMetricWarning: Precision is ill-defined and being set to 0.0 in labels with no predicted samples. Use `zero_division` parameter to control this behavior.\n",
            "  _warn_prf(average, modifier, f\"{metric.capitalize()} is\", len(result))\n",
            "/usr/local/lib/python3.10/dist-packages/sklearn/metrics/_classification.py:1565: UndefinedMetricWarning: Precision is ill-defined and being set to 0.0 in labels with no predicted samples. Use `zero_division` parameter to control this behavior.\n",
            "  _warn_prf(average, modifier, f\"{metric.capitalize()} is\", len(result))\n",
            "/usr/local/lib/python3.10/dist-packages/sklearn/metrics/_classification.py:1565: UndefinedMetricWarning: Precision is ill-defined and being set to 0.0 in labels with no predicted samples. Use `zero_division` parameter to control this behavior.\n",
            "  _warn_prf(average, modifier, f\"{metric.capitalize()} is\", len(result))\n"
          ]
        }
      ]
    },
    {
      "cell_type": "markdown",
      "source": [
        "**secBERT + fine-tune + learning-rate + epoch=5 + drop=0.25 + dense=256**"
      ],
      "metadata": {
        "id": "LHkAJbvP-VFq"
      }
    },
    {
      "cell_type": "code",
      "source": [
        "from tensorflow.keras.layers import Lambda\n",
        "\n",
        "# Bật fine-tune\n",
        "secbert_model.trainable = True\n",
        "\n",
        "# Input layers\n",
        "input_ids = tf.keras.Input(shape=(128,), dtype=tf.int32, name=\"input_ids\")\n",
        "attention_mask = tf.keras.Input(shape=(128,), dtype=tf.int32, name=\"attention_mask\")\n",
        "\n",
        "# Gọi SecBERT qua Lambda layer, specify output_shape\n",
        "bert_outputs = Lambda(\n",
        "    lambda x: secbert_model(input_ids=x[0], attention_mask=x[1])[0][:, 0, :],\n",
        "    output_shape=(768,)  # Specify the output shape here\n",
        ")([input_ids, attention_mask])\n",
        "\n",
        "# Thêm các lớp Dense\n",
        "x = Dense(256, activation=\"relu\")(bert_outputs)\n",
        "x = Dropout(0.25)(x)\n",
        "output = Dense(num_classes, activation=\"softmax\")(x)\n",
        "\n",
        "# Tạo mô hình\n",
        "model = Model(inputs=[input_ids, attention_mask], outputs=output)\n",
        "\n",
        "# Compile mô hình\n",
        "model.compile(optimizer=tf.keras.optimizers.Adam(learning_rate=5e-5),\n",
        "              loss=\"sparse_categorical_crossentropy\", metrics=[\"accuracy\"])"
      ],
      "metadata": {
        "id": "NpjS3PwB-csz"
      },
      "execution_count": 22,
      "outputs": []
    },
    {
      "cell_type": "code",
      "source": [
        "# huấn luyện mô hình\n",
        "history = model.fit(\n",
        "    {\n",
        "        \"input_ids\": X_train_tokens[\"input_ids\"],\n",
        "        \"attention_mask\": X_train_tokens[\"attention_mask\"]\n",
        "    },\n",
        "    y_train_encoded,\n",
        "    validation_split=0.2,\n",
        "    epochs=5,\n",
        "    batch_size=128\n",
        ")"
      ],
      "metadata": {
        "colab": {
          "base_uri": "https://localhost:8080/"
        },
        "id": "b4HlNMVJ-z9k",
        "outputId": "b5269df6-1f95-486d-a191-73d167571548"
      },
      "execution_count": 23,
      "outputs": [
        {
          "output_type": "stream",
          "name": "stdout",
          "text": [
            "Epoch 1/5\n",
            "\u001b[1m607/607\u001b[0m \u001b[32m━━━━━━━━━━━━━━━━━━━━\u001b[0m\u001b[37m\u001b[0m \u001b[1m382s\u001b[0m 611ms/step - accuracy: 0.2871 - loss: 1.9249 - val_accuracy: 0.4305 - val_loss: 1.5298\n",
            "Epoch 2/5\n",
            "\u001b[1m607/607\u001b[0m \u001b[32m━━━━━━━━━━━━━━━━━━━━\u001b[0m\u001b[37m\u001b[0m \u001b[1m370s\u001b[0m 599ms/step - accuracy: 0.4152 - loss: 1.5466 - val_accuracy: 0.4355 - val_loss: 1.4827\n",
            "Epoch 3/5\n",
            "\u001b[1m607/607\u001b[0m \u001b[32m━━━━━━━━━━━━━━━━━━━━\u001b[0m\u001b[37m\u001b[0m \u001b[1m371s\u001b[0m 580ms/step - accuracy: 0.4290 - loss: 1.4980 - val_accuracy: 0.4369 - val_loss: 1.4639\n",
            "Epoch 4/5\n",
            "\u001b[1m607/607\u001b[0m \u001b[32m━━━━━━━━━━━━━━━━━━━━\u001b[0m\u001b[37m\u001b[0m \u001b[1m394s\u001b[0m 600ms/step - accuracy: 0.4315 - loss: 1.4783 - val_accuracy: 0.4452 - val_loss: 1.4524\n",
            "Epoch 5/5\n",
            "\u001b[1m607/607\u001b[0m \u001b[32m━━━━━━━━━━━━━━━━━━━━\u001b[0m\u001b[37m\u001b[0m \u001b[1m370s\u001b[0m 580ms/step - accuracy: 0.4336 - loss: 1.4715 - val_accuracy: 0.4407 - val_loss: 1.4474\n"
          ]
        }
      ]
    },
    {
      "cell_type": "code",
      "source": [
        "test_loss, test_acc = model.evaluate(\n",
        "    {\"input_ids\": X_test_tokens[\"input_ids\"], \"attention_mask\": X_test_tokens[\"attention_mask\"]},\n",
        "    y_test_encoded\n",
        ")\n",
        "print(f\"Test accuracy: {test_acc}\")"
      ],
      "metadata": {
        "colab": {
          "base_uri": "https://localhost:8080/"
        },
        "id": "usBYtWK9GIrN",
        "outputId": "34705a99-f4aa-4a4c-ae22-021abcc493ad"
      },
      "execution_count": 24,
      "outputs": [
        {
          "output_type": "stream",
          "name": "stdout",
          "text": [
            "\u001b[1m758/758\u001b[0m \u001b[32m━━━━━━━━━━━━━━━━━━━━\u001b[0m\u001b[37m\u001b[0m \u001b[1m105s\u001b[0m 129ms/step - accuracy: 0.4340 - loss: 1.4546\n",
            "Test accuracy: 0.43583714962005615\n"
          ]
        }
      ]
    },
    {
      "cell_type": "code",
      "source": [
        "from sklearn.metrics import classification_report\n",
        "\n",
        "# Dự đoán trên tập validation hoặc test\n",
        "y_pred = model.predict({\n",
        "    \"input_ids\": X_test_tokens[\"input_ids\"],\n",
        "    \"attention_mask\": X_test_tokens[\"attention_mask\"]\n",
        "})\n",
        "\n",
        "# Lấy nhãn dự đoán từ xác suất (với softmax)\n",
        "y_pred_labels = y_pred.argmax(axis=1)\n",
        "\n",
        "label_names = label_encoder.classes_  # Lấy danh sách tên nhãn\n",
        "\n",
        "# Tính toán precision, recall, f1-score\n",
        "print(classification_report(y_test_encoded, y_pred_labels, target_names=label_names))"
      ],
      "metadata": {
        "id": "MB308fGoGK8s"
      },
      "execution_count": null,
      "outputs": []
    },
    {
      "cell_type": "markdown",
      "source": [
        "**Thêm lớp Dense và Epoch**"
      ],
      "metadata": {
        "id": "kG6XnrmqGY68"
      }
    },
    {
      "cell_type": "code",
      "source": [
        "from tensorflow.keras.layers import Lambda\n",
        "\n",
        "# Bật fine-tune\n",
        "secbert_model.trainable = True\n",
        "\n",
        "# Input layers\n",
        "input_ids = tf.keras.Input(shape=(128,), dtype=tf.int32, name=\"input_ids\")\n",
        "attention_mask = tf.keras.Input(shape=(128,), dtype=tf.int32, name=\"attention_mask\")\n",
        "\n",
        "# Gọi SecBERT qua Lambda layer, specify output_shape\n",
        "bert_outputs = Lambda(\n",
        "    lambda x: secbert_model(input_ids=x[0], attention_mask=x[1])[0][:, 0, :],\n",
        "    output_shape=(768,)  # Specify the output shape here\n",
        ")([input_ids, attention_mask])\n",
        "\n",
        "# Thêm các lớp Dense\n",
        "x = Dense(512, activation=\"relu\")(bert_outputs)\n",
        "x = Dropout(0.25)(x)\n",
        "x = Dense(256, activation=\"relu\")(x)\n",
        "x = Dropout(0.25)(x)\n",
        "output = Dense(num_classes, activation=\"softmax\")(x)\n",
        "\n",
        "# Tạo mô hình\n",
        "model = Model(inputs=[input_ids, attention_mask], outputs=output)\n",
        "\n",
        "# Compile mô hình\n",
        "model.compile(optimizer=tf.keras.optimizers.Adam(learning_rate=5e-5),\n",
        "              loss=\"sparse_categorical_crossentropy\", metrics=[\"accuracy\"])"
      ],
      "metadata": {
        "id": "Bafhgp7qGclI"
      },
      "execution_count": 25,
      "outputs": []
    },
    {
      "cell_type": "code",
      "source": [
        "# huấn luyện mô hình\n",
        "history = model.fit(\n",
        "    {\n",
        "        \"input_ids\": X_train_tokens[\"input_ids\"],\n",
        "        \"attention_mask\": X_train_tokens[\"attention_mask\"]\n",
        "    },\n",
        "    y_train_encoded,\n",
        "    validation_split=0.2,\n",
        "    epochs=7,\n",
        "    batch_size=64\n",
        ")"
      ],
      "metadata": {
        "colab": {
          "base_uri": "https://localhost:8080/"
        },
        "id": "zUC_Rq5QG_FN",
        "outputId": "15d97ec5-6bb8-45f2-e87f-b784c4e9ddf3"
      },
      "execution_count": 26,
      "outputs": [
        {
          "output_type": "stream",
          "name": "stdout",
          "text": [
            "Epoch 1/7\n",
            "\u001b[1m1213/1213\u001b[0m \u001b[32m━━━━━━━━━━━━━━━━━━━━\u001b[0m\u001b[37m\u001b[0m \u001b[1m466s\u001b[0m 371ms/step - accuracy: 0.3250 - loss: 1.7938 - val_accuracy: 0.4326 - val_loss: 1.4811\n",
            "Epoch 2/7\n",
            "\u001b[1m1213/1213\u001b[0m \u001b[32m━━━━━━━━━━━━━━━━━━━━\u001b[0m\u001b[37m\u001b[0m \u001b[1m427s\u001b[0m 315ms/step - accuracy: 0.4244 - loss: 1.5060 - val_accuracy: 0.4424 - val_loss: 1.4455\n",
            "Epoch 3/7\n",
            "\u001b[1m1213/1213\u001b[0m \u001b[32m━━━━━━━━━━━━━━━━━━━━\u001b[0m\u001b[37m\u001b[0m \u001b[1m443s\u001b[0m 316ms/step - accuracy: 0.4325 - loss: 1.4756 - val_accuracy: 0.4437 - val_loss: 1.4331\n",
            "Epoch 4/7\n",
            "\u001b[1m1213/1213\u001b[0m \u001b[32m━━━━━━━━━━━━━━━━━━━━\u001b[0m\u001b[37m\u001b[0m \u001b[1m435s\u001b[0m 310ms/step - accuracy: 0.4378 - loss: 1.4525 - val_accuracy: 0.4454 - val_loss: 1.4282\n",
            "Epoch 5/7\n",
            "\u001b[1m1213/1213\u001b[0m \u001b[32m━━━━━━━━━━━━━━━━━━━━\u001b[0m\u001b[37m\u001b[0m \u001b[1m381s\u001b[0m 309ms/step - accuracy: 0.4340 - loss: 1.4483 - val_accuracy: 0.4465 - val_loss: 1.4191\n",
            "Epoch 6/7\n",
            "\u001b[1m1213/1213\u001b[0m \u001b[32m━━━━━━━━━━━━━━━━━━━━\u001b[0m\u001b[37m\u001b[0m \u001b[1m389s\u001b[0m 315ms/step - accuracy: 0.4390 - loss: 1.4373 - val_accuracy: 0.4437 - val_loss: 1.4155\n",
            "Epoch 7/7\n",
            "\u001b[1m1213/1213\u001b[0m \u001b[32m━━━━━━━━━━━━━━━━━━━━\u001b[0m\u001b[37m\u001b[0m \u001b[1m382s\u001b[0m 315ms/step - accuracy: 0.4447 - loss: 1.4274 - val_accuracy: 0.4490 - val_loss: 1.4098\n"
          ]
        }
      ]
    },
    {
      "cell_type": "code",
      "source": [
        "test_loss, test_acc = model.evaluate(\n",
        "    {\"input_ids\": X_test_tokens[\"input_ids\"], \"attention_mask\": X_test_tokens[\"attention_mask\"]},\n",
        "    y_test_encoded\n",
        ")\n",
        "print(f\"Test accuracy: {test_acc}\")"
      ],
      "metadata": {
        "colab": {
          "base_uri": "https://localhost:8080/"
        },
        "id": "bB0yJ-hbSXA2",
        "outputId": "5433fb9d-e995-42fc-b480-113c3932415f"
      },
      "execution_count": 27,
      "outputs": [
        {
          "output_type": "stream",
          "name": "stdout",
          "text": [
            "\u001b[1m758/758\u001b[0m \u001b[32m━━━━━━━━━━━━━━━━━━━━\u001b[0m\u001b[37m\u001b[0m \u001b[1m101s\u001b[0m 127ms/step - accuracy: 0.4429 - loss: 1.4158\n",
            "Test accuracy: 0.44454067945480347\n"
          ]
        }
      ]
    },
    {
      "cell_type": "code",
      "source": [
        "from sklearn.metrics import classification_report\n",
        "\n",
        "# Dự đoán trên tập validation hoặc test\n",
        "y_pred = model.predict({\n",
        "    \"input_ids\": X_test_tokens[\"input_ids\"],\n",
        "    \"attention_mask\": X_test_tokens[\"attention_mask\"]\n",
        "})\n",
        "\n",
        "# Lấy nhãn dự đoán từ xác suất (với softmax)\n",
        "y_pred_labels = y_pred.argmax(axis=1)\n",
        "\n",
        "label_names = label_encoder.classes_  # Lấy danh sách tên nhãn\n",
        "\n",
        "# Tính toán precision, recall, f1-score\n",
        "print(classification_report(y_test_encoded, y_pred_labels, target_names=label_names))"
      ],
      "metadata": {
        "colab": {
          "base_uri": "https://localhost:8080/"
        },
        "id": "uxz_G-UqSfsr",
        "outputId": "d4d67e8a-016a-40b1-89b2-8471df94cab3"
      },
      "execution_count": 28,
      "outputs": [
        {
          "output_type": "stream",
          "name": "stdout",
          "text": [
            "\u001b[1m758/758\u001b[0m \u001b[32m━━━━━━━━━━━━━━━━━━━━\u001b[0m\u001b[37m\u001b[0m \u001b[1m102s\u001b[0m 130ms/step\n",
            "                                        precision    recall  f1-score   support\n",
            "\n",
            "                          000 - Normal       0.35      0.43      0.38      3974\n",
            "                  126 - Path Traversal       0.83      0.75      0.79      3545\n",
            "         153 - Input Data Manipulation       0.22      0.01      0.01       272\n",
            "         194 - Fake the Source of Data       0.36      0.31      0.33      3965\n",
            "                  242 - Code Injection       0.44      0.64      0.52      2751\n",
            "           272 - Protocol Manipulation       0.38      0.09      0.15      1381\n",
            "310 - Scanning for Vulnerable Software       0.64      0.65      0.65       478\n",
            "          34 - HTTP Response Splitting       0.36      0.35      0.35      3810\n",
            "                    66 - SQL Injection       0.39      0.40      0.40      4067\n",
            "\n",
            "                              accuracy                           0.44     24243\n",
            "                             macro avg       0.44      0.40      0.40     24243\n",
            "                          weighted avg       0.45      0.44      0.44     24243\n",
            "\n"
          ]
        }
      ]
    },
    {
      "cell_type": "code",
      "source": [
        "from sklearn.metrics import confusion_matrix\n",
        "\n",
        "# Tính confusion matrix\n",
        "conf_matrix = confusion_matrix(y_test_encoded, y_pred_labels)\n",
        "print(\"Confusion Matrix:\")\n",
        "print(conf_matrix)\n"
      ],
      "metadata": {
        "colab": {
          "base_uri": "https://localhost:8080/"
        },
        "id": "iBj9N-IjaGL8",
        "outputId": "d08dbdde-279f-4335-f7f9-9d65b0253dea"
      },
      "execution_count": 29,
      "outputs": [
        {
          "output_type": "stream",
          "name": "stdout",
          "text": [
            "Confusion Matrix:\n",
            "[[1714   85    0  420  126  134   94  487  914]\n",
            " [ 372 2660    1   55  100   12    4   56  285]\n",
            " [  88    0    2   34   41    0    0   74   33]\n",
            " [ 662   16    5 1233  737   23    0  885  404]\n",
            " [ 200  378    0   54 1751    0   12  290   66]\n",
            " [ 602    1    1  150   40  128   36   93  330]\n",
            " [  58    0    0   23    0   27  311    0   59]\n",
            " [ 563   55    0  738  690    0    1 1334  429]\n",
            " [ 676    0    0  764  450   14   25  494 1644]]\n"
          ]
        }
      ]
    }
  ]
}